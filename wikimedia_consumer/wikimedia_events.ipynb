{
 "cells": [
  {
   "cell_type": "code",
   "execution_count": 2,
   "id": "715a6a11-6cdb-4e12-bfd6-c3db0348344e",
   "metadata": {},
   "outputs": [],
   "source": [
    "from pyspark.sql import SparkSession\n",
    "import pyspark.sql.functions as F\n",
    "from pyspark.sql.types import StructType, StructField, StringType, BooleanType, IntegerType"
   ]
  },
  {
   "cell_type": "code",
   "execution_count": 3,
   "id": "91b331fa-9dd8-42eb-ba97-86a7549cda5b",
   "metadata": {},
   "outputs": [],
   "source": [
    "spark = SparkSession.builder.appName('StructuredStreamingKafka').getOrCreate()"
   ]
  },
  {
   "cell_type": "code",
   "execution_count": 4,
   "id": "26bd04db-2e6c-4f40-885e-e2dbbde10722",
   "metadata": {},
   "outputs": [],
   "source": [
    "BOOTSTRAP_SERVERS = 'confluent-local-broker-1:50459'\n",
    "TOPIC = 'wikimedia_events'"
   ]
  },
  {
   "cell_type": "code",
   "execution_count": 5,
   "id": "f740591d-65eb-4feb-b778-ad4f68d349df",
   "metadata": {},
   "outputs": [],
   "source": [
    "kafka_stream_df = (\n",
    "    spark.readStream\n",
    "    .format('kafka')\n",
    "    .option('kafka.bootstrap.servers', BOOTSTRAP_SERVERS)\n",
    "    .option('subscribe', TOPIC)\n",
    "    .load()\n",
    ")"
   ]
  },
  {
   "cell_type": "code",
   "execution_count": 6,
   "id": "164a5ccc-28a2-4081-9f0d-05cb162d0581",
   "metadata": {},
   "outputs": [],
   "source": [
    "def test(df, sleep_time=5, output_mode='append'):\n",
    "    import time\n",
    "    query = df.writeStream.outputMode(output_mode).format('console').start()\n",
    "    time.sleep(sleep_time)\n",
    "    query.stop()"
   ]
  },
  {
   "cell_type": "code",
   "execution_count": 7,
   "id": "aa8b9a11-a8ad-4a6b-ac1e-ace1305b1655",
   "metadata": {},
   "outputs": [],
   "source": [
    "schema = StructType([\n",
    "    StructField('timestamp', IntegerType()),\n",
    "    StructField('bot', BooleanType()),\n",
    "    StructField('minor', BooleanType()),\n",
    "    StructField('user', StringType()),\n",
    "    StructField('meta', StructType([\n",
    "        StructField('domain', StringType())\n",
    "    ])),\n",
    "    StructField('length', StructType([\n",
    "        StructField('old', IntegerType()),\n",
    "        StructField('new', IntegerType())\n",
    "    ]))\n",
    "])"
   ]
  },
  {
   "cell_type": "code",
   "execution_count": 8,
   "id": "c7166aa4-e2f7-4c2c-8662-0aa723b2a044",
   "metadata": {},
   "outputs": [],
   "source": [
    "df = kafka_stream_df.select(F.col('value').cast('string'))\n",
    "df = df.select(F.from_json(df.value, schema).alias('data'))\n",
    "df = df.select('data.timestamp', \n",
    "               'data.bot', \n",
    "               'data.minor', \n",
    "               'data.user', \n",
    "               'data.meta.domain', \n",
    "               'data.length.old', \n",
    "               'data.length.new'           \n",
    "              )"
   ]
  },
  {
   "cell_type": "code",
   "execution_count": 9,
   "id": "eed0550c-216d-44ea-8a41-8bb4da0e2ebf",
   "metadata": {},
   "outputs": [],
   "source": [
    "df = df.withColumn('length_diff', F.col('new') - F.col('old'))\n",
    "df = df.withColumn('length_diff_percent',\n",
    "                  F.round((((F.col('new') - F.col('old')) / F.col('old')) * 100), 2)\n",
    "                  )"
   ]
  },
  {
   "cell_type": "code",
   "execution_count": 10,
   "id": "b4c3c193-02e4-4b81-ac8c-9abeae1b7c42",
   "metadata": {},
   "outputs": [],
   "source": [
    "test(df, sleep_time=5, output_mode='append')"
   ]
  },
  {
   "cell_type": "code",
   "execution_count": 25,
   "id": "34955dd1-14c8-42bb-bbad-3c3f65983790",
   "metadata": {},
   "outputs": [],
   "source": [
    "top_domain = df.groupBy('domain').count().orderBy(F.desc('count')).limit(5)"
   ]
  },
  {
   "cell_type": "code",
   "execution_count": 26,
   "id": "0a6e809b-6407-4a39-a61c-cf733475864d",
   "metadata": {},
   "outputs": [],
   "source": [
    "test(top_domain, sleep_time=5, output_mode='complete')"
   ]
  },
  {
   "cell_type": "code",
   "execution_count": 27,
   "id": "75c34ae8-4eab-4676-960e-da55694cf8be",
   "metadata": {},
   "outputs": [],
   "source": [
    "top_users = df.groupBy('user').agg(F.sum('length_diff').alias('added_sum')).orderBy(F.desc('added_sum')).limit(5)"
   ]
  },
  {
   "cell_type": "code",
   "execution_count": 28,
   "id": "e677850c-d62b-4a40-8fb8-3f9460eb3bcf",
   "metadata": {},
   "outputs": [],
   "source": [
    "test(top_users, sleep_time=5, output_mode='complete')"
   ]
  },
  {
   "cell_type": "code",
   "execution_count": 42,
   "id": "ffc6ec16-f6c2-47cf-aeeb-ebf5bd5f6a40",
   "metadata": {},
   "outputs": [],
   "source": [
    "calc_df = df.agg(\n",
    "    F.count('timestamp').alias('total_count'),\n",
    "    F.round(((F.count_if(F.col('bot') == True) / F.count('bot')) * 100), 2).alias('percent_bot'),\n",
    "    F.round(F.mean('length_diff'), 2).alias('average_length_diff'),\n",
    "    F.min('length_diff').alias('min_length_diff'),\n",
    "    F.max('length_diff').alias('max_length_diff')\n",
    ")"
   ]
  },
  {
   "cell_type": "code",
   "execution_count": 43,
   "id": "f6222db1-73d7-46e1-bab1-4f180636cc90",
   "metadata": {},
   "outputs": [],
   "source": [
    "test(calc_df, sleep_time=5, output_mode='complete')"
   ]
  },
  {
   "cell_type": "code",
   "execution_count": null,
   "id": "4350f7d2-0f04-4c91-9f92-bd8982149c8d",
   "metadata": {},
   "outputs": [],
   "source": []
  }
 ],
 "metadata": {
  "kernelspec": {
   "display_name": "Python 3 (ipykernel)",
   "language": "python",
   "name": "python3"
  },
  "language_info": {
   "codemirror_mode": {
    "name": "ipython",
    "version": 3
   },
   "file_extension": ".py",
   "mimetype": "text/x-python",
   "name": "python",
   "nbconvert_exporter": "python",
   "pygments_lexer": "ipython3",
   "version": "3.11.6"
  }
 },
 "nbformat": 4,
 "nbformat_minor": 5
}
